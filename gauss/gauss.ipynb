{
 "cells": [
  {
   "cell_type": "markdown",
   "metadata": {},
   "source": [
    "# ガウス波束"
   ]
  },
  {
   "cell_type": "markdown",
   "metadata": {},
   "source": [
    "ガウス波束をあるポテンシャルに打ち込むときの時間発展をシミュレーションします。"
   ]
  },
  {
   "cell_type": "markdown",
   "metadata": {},
   "source": [
    "まず各種定数とパラメタを定義しておきます。"
   ]
  },
  {
   "cell_type": "code",
   "execution_count": 1,
   "metadata": {
    "scrolled": true
   },
   "outputs": [],
   "source": [
    "const ħ=1.0;    #Dirac定数ℏ\n",
    "const m=0.5;    #粒子の質量\n",
    "\n",
    "const Δ=15.0;    #ガウス波束の運動量のバラつき\n",
    "const k=100.0;    #初期条件における運動量の期待値\n",
    "const x0=-0.3;    #初期条件におけるピークの位置\n",
    "\n",
    "const a=-1.0;    #左端\n",
    "const b= 1.0;    #右端\n",
    "const dx=0.004;    #座標の刻み幅\n",
    "const L=(Int)(1+(b-a)/dx);    #座標に関する配列のサイズ\n",
    "\n",
    "const tL=801;    #時間に関する配列のサイズ\n",
    "const dt=dx^2/4.0;   #時間の刻み幅\n",
    "const t0=0.0;    #開始時刻\n",
    "const t1=t0+dx*(tL-1);    #終了時刻"
   ]
  },
  {
   "cell_type": "markdown",
   "metadata": {},
   "source": [
    "V0とV(x)を変更することで色々なポテンシャルの場合が試せます。<br />\n",
    "とりあえず有限高さの階段型ポテンシャルの場合です。"
   ]
  },
  {
   "cell_type": "code",
   "execution_count": 2,
   "metadata": {},
   "outputs": [
    {
     "data": {
      "text/plain": [
       "V (generic function with 1 method)"
      ]
     },
     "execution_count": 2,
     "metadata": {},
     "output_type": "execute_result"
    }
   ],
   "source": [
    "V0=0.7*k^2/2m    #ポテンシャルの高さ\n",
    "\n",
    "function V(x)    #階段型ポテンシャル\n",
    "    if x<0\n",
    "        return 0\n",
    "    else\n",
    "        return V0\n",
    "    end\n",
    "end"
   ]
  },
  {
   "cell_type": "code",
   "execution_count": 3,
   "metadata": {},
   "outputs": [
    {
     "data": {
      "text/plain": [
       "VArray (generic function with 1 method)"
      ]
     },
     "execution_count": 3,
     "metadata": {},
     "output_type": "execute_result"
    }
   ],
   "source": [
    "function VArray()    #プロット用\n",
    "    r=Array{Float64}(L)\n",
    "    \n",
    "    for i in 1:L\n",
    "        x=a+(i-1)*dx\n",
    "        r[i]=V(x)/(k^2/2m)\n",
    "    end\n",
    "    \n",
    "    return r\n",
    "end"
   ]
  },
  {
   "cell_type": "markdown",
   "metadata": {},
   "source": [
    "波動関数の初期条件を与えます。"
   ]
  },
  {
   "cell_type": "code",
   "execution_count": 4,
   "metadata": {},
   "outputs": [
    {
     "data": {
      "text/plain": [
       "Ψ0 (generic function with 1 method)"
      ]
     },
     "execution_count": 4,
     "metadata": {},
     "output_type": "execute_result"
    }
   ],
   "source": [
    "function Ψ0()    #波動関数の初期条件\n",
    "    Ψ=Array{Complex64}(L)\n",
    "    \n",
    "    for i in 1:L\n",
    "        x=a+(i-1)*dx\n",
    "        Ψ[i]=exp(-Δ^2*(x-x0)^2/ħ^2 + im*k*x/ħ)\n",
    "    end\n",
    "    \n",
    "    return Ψ\n",
    "end"
   ]
  },
  {
   "cell_type": "markdown",
   "metadata": {},
   "source": [
    "波動関数$\\Psi$は、一定の幅$dx$ごとの値を保持した配列の形で表現しています。その$\\Psi$に対して$\\hat{H}\\Psi$は以下のように計算できます。ただし、ハミルトニアンに現れる$x$の微分は差分で近似します。"
   ]
  },
  {
   "cell_type": "code",
   "execution_count": 5,
   "metadata": {},
   "outputs": [
    {
     "data": {
      "text/plain": [
       "HΨ (generic function with 1 method)"
      ]
     },
     "execution_count": 5,
     "metadata": {},
     "output_type": "execute_result"
    }
   ],
   "source": [
    "function HΨ(Ψ)\n",
    "    r=Array{Complex64}(L)    #p̂Ψ/2m+VΨを格納\n",
    "    r[1]=r[L]=0.0    #両端は十分遠方とみなして0にする\n",
    "    \n",
    "    for i in 2:L-1\n",
    "        x=a+(i-1)*dx\n",
    "        r[i]=-ħ^2/2m*(Ψ[i+1]-2Ψ[i]+Ψ[i-1])/dx^2+V(x)*Ψ[i]\n",
    "    end\n",
    "    \n",
    "    return r\n",
    "end"
   ]
  },
  {
   "cell_type": "markdown",
   "metadata": {},
   "source": [
    "シュレーディンガー方程式を解いていきます。<br />\n",
    "$\\hat{H}\\Psi$は上のように計算してあるため、$t$に関する一階の微分方程式として解けると考えられます。\n",
    "ルンゲ・クッタ法を用いて以下のように$\\frac{\\Delta\\Psi}{\\Delta t}$を推定します。"
   ]
  },
  {
   "cell_type": "code",
   "execution_count": 6,
   "metadata": {},
   "outputs": [
    {
     "data": {
      "text/plain": [
       "slope (generic function with 1 method)"
      ]
     },
     "execution_count": 6,
     "metadata": {},
     "output_type": "execute_result"
    }
   ],
   "source": [
    "function slope(Ψ)\n",
    "    k1=-im.*HΨ(Ψ)./ħ\n",
    "    k2=-im.*HΨ(Ψ.+0.5dt.*k1)./ħ\n",
    "    k3=-im.*HΨ(Ψ.+0.5dt.*k2)./ħ\n",
    "    k4=-im.*HΨ(Ψ.+dt.*k3)./ħ\n",
    "    \n",
    "    return (k1.+2k2.+2k3.+k4)./6.0\n",
    "end"
   ]
  },
  {
   "cell_type": "markdown",
   "metadata": {},
   "source": [
    "推定した$\\frac{\\Delta\\Psi}{\\Delta t}$をもとに初期条件から時間発展させていきます。"
   ]
  },
  {
   "cell_type": "code",
   "execution_count": 7,
   "metadata": {},
   "outputs": [],
   "source": [
    "Ψ=Array{Array{Complex64}}(tL)\n",
    "\n",
    "Ψ[1]=Ψ0()\n",
    "for i in 2:tL\n",
    "    Ψ[i]=Ψ[i-1].+slope(Ψ[i-1])*dt\n",
    "end"
   ]
  },
  {
   "cell_type": "markdown",
   "metadata": {},
   "source": [
    "あとは得られた結果をアニメーションとして出力するだけです。<br />\n",
    "少し時間がかかります。"
   ]
  },
  {
   "cell_type": "code",
   "execution_count": 8,
   "metadata": {},
   "outputs": [],
   "source": [
    "using Plots"
   ]
  },
  {
   "cell_type": "code",
   "execution_count": 9,
   "metadata": {},
   "outputs": [
    {
     "data": {
      "text/plain": [
       "\"true\""
      ]
     },
     "execution_count": 9,
     "metadata": {},
     "output_type": "execute_result"
    }
   ],
   "source": [
    "gr()\n",
    "ENV[\"PLOTS_TEST\"]=\"true\""
   ]
  },
  {
   "cell_type": "code",
   "execution_count": 10,
   "metadata": {},
   "outputs": [
    {
     "data": {
      "text/plain": [
       "Plots.Animation(\"/tmp/tmpmpe8dd\", String[\"000001.png\", \"000002.png\", \"000003.png\", \"000004.png\", \"000005.png\", \"000006.png\", \"000007.png\", \"000008.png\", \"000009.png\", \"000010.png\"  …  \"000792.png\", \"000793.png\", \"000794.png\", \"000795.png\", \"000796.png\", \"000797.png\", \"000798.png\", \"000799.png\", \"000800.png\", \"000801.png\"])"
      ]
     },
     "execution_count": 10,
     "metadata": {},
     "output_type": "execute_result"
    }
   ],
   "source": [
    "anim=@animate for t in 1:tL\n",
    "    plot(a:dx:b,[abs.(Ψ[t]).^2,VArray()], \n",
    "        leg=false,\n",
    "        tickfont=(9,\"Consolas\"),\n",
    "        xlims=(a,b),\n",
    "        ylims=(-0.1,1.2))\n",
    "end"
   ]
  },
  {
   "cell_type": "code",
   "execution_count": 11,
   "metadata": {},
   "outputs": [
    {
     "name": "stderr",
     "output_type": "stream",
     "text": [
      "\u001b[1m\u001b[36mINFO: \u001b[39m\u001b[22m\u001b[36mSaved animation to /mnt/d/Documents/julia/IJulia/anim.gif\n",
      "\u001b[39m"
     ]
    },
    {
     "data": {
      "text/html": [
       "<img src=\"anim.gif?0.1608953447881638>\" />"
      ],
      "text/plain": [
       "Plots.AnimatedGif(\"/mnt/d/Documents/julia/IJulia/anim.gif\")"
      ]
     },
     "execution_count": 11,
     "metadata": {},
     "output_type": "execute_result"
    }
   ],
   "source": [
    "gif(anim,\"./anim.gif\",fps=30)"
   ]
  }
 ],
 "metadata": {
  "kernelspec": {
   "display_name": "Julia 0.6.0",
   "language": "julia",
   "name": "julia-0.6"
  },
  "language_info": {
   "file_extension": ".jl",
   "mimetype": "application/julia",
   "name": "julia",
   "version": "0.6.0"
  }
 },
 "nbformat": 4,
 "nbformat_minor": 2
}
